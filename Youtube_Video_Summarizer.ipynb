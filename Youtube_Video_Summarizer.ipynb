{
  "nbformat": 4,
  "nbformat_minor": 0,
  "metadata": {
    "colab": {
      "provenance": []
    },
    "kernelspec": {
      "name": "python3",
      "display_name": "Python 3"
    },
    "language_info": {
      "name": "python"
    }
  },
  "cells": [
    {
      "cell_type": "markdown",
      "source": [
        "## **Patan Sajid Ali Khan**\n",
        "## **Registration number**: 229x1a2851\n",
        "## **Email**: 229x1a2851@gprec.ac.in\n",
        "## **Collage**: G. Pulla Reddy Engineering College, Kurnool\n",
        "## **Project**: Youtube Video Summarizer using Transformers"
      ],
      "metadata": {
        "id": "9N9CAEUlJOsw"
      }
    },
    {
      "cell_type": "code",
      "source": [
        "!pip install youtube_transcript_api"
      ],
      "metadata": {
        "colab": {
          "base_uri": "https://localhost:8080/"
        },
        "id": "zlTaAUriv7M1",
        "outputId": "6e2fed70-59d5-43e8-b915-88cfac6ca435"
      },
      "execution_count": null,
      "outputs": [
        {
          "output_type": "stream",
          "name": "stdout",
          "text": [
            "Collecting youtube_transcript_api\n",
            "  Downloading youtube_transcript_api-1.0.2-py3-none-any.whl.metadata (23 kB)\n",
            "Requirement already satisfied: defusedxml<0.8.0,>=0.7.1 in /usr/local/lib/python3.11/dist-packages (from youtube_transcript_api) (0.7.1)\n",
            "Requirement already satisfied: requests in /usr/local/lib/python3.11/dist-packages (from youtube_transcript_api) (2.32.3)\n",
            "Requirement already satisfied: charset-normalizer<4,>=2 in /usr/local/lib/python3.11/dist-packages (from requests->youtube_transcript_api) (3.4.1)\n",
            "Requirement already satisfied: idna<4,>=2.5 in /usr/local/lib/python3.11/dist-packages (from requests->youtube_transcript_api) (3.10)\n",
            "Requirement already satisfied: urllib3<3,>=1.21.1 in /usr/local/lib/python3.11/dist-packages (from requests->youtube_transcript_api) (2.3.0)\n",
            "Requirement already satisfied: certifi>=2017.4.17 in /usr/local/lib/python3.11/dist-packages (from requests->youtube_transcript_api) (2025.1.31)\n",
            "Downloading youtube_transcript_api-1.0.2-py3-none-any.whl (1.9 MB)\n",
            "\u001b[2K   \u001b[90m━━━━━━━━━━━━━━━━━━━━━━━━━━━━━━━━━━━━━━━━\u001b[0m \u001b[32m1.9/1.9 MB\u001b[0m \u001b[31m20.6 MB/s\u001b[0m eta \u001b[36m0:00:00\u001b[0m\n",
            "\u001b[?25hInstalling collected packages: youtube_transcript_api\n",
            "Successfully installed youtube_transcript_api-1.0.2\n"
          ]
        }
      ]
    },
    {
      "cell_type": "code",
      "source": [
        "from youtube_transcript_api import YouTubeTranscriptApi"
      ],
      "metadata": {
        "id": "971OLoUDwBxC"
      },
      "execution_count": null,
      "outputs": []
    },
    {
      "cell_type": "code",
      "source": [
        "from IPython.display import YouTubeVideo"
      ],
      "metadata": {
        "id": "75AtYgSdwHfX"
      },
      "execution_count": null,
      "outputs": []
    },
    {
      "cell_type": "code",
      "source": [
        "video = input(\"Enter the link of youtube video\")"
      ],
      "metadata": {
        "colab": {
          "base_uri": "https://localhost:8080/"
        },
        "id": "ulN9ZIFCwJyv",
        "outputId": "ab47f715-291c-4e8e-8650-260509d89038"
      },
      "execution_count": null,
      "outputs": [
        {
          "name": "stdout",
          "output_type": "stream",
          "text": [
            "Enter the link of youtube videohttps://www.youtube.com/watch?v=tXVNS-V39A0\n"
          ]
        }
      ]
    },
    {
      "cell_type": "code",
      "source": [
        "video"
      ],
      "metadata": {
        "colab": {
          "base_uri": "https://localhost:8080/",
          "height": 35
        },
        "id": "fS4svuVvwd7U",
        "outputId": "303dac01-4253-4a7b-b558-030d02b89b48"
      },
      "execution_count": null,
      "outputs": [
        {
          "output_type": "execute_result",
          "data": {
            "text/plain": [
              "'https://www.youtube.com/watch?v=tXVNS-V39A0'"
            ],
            "application/vnd.google.colaboratory.intrinsic+json": {
              "type": "string"
            }
          },
          "metadata": {},
          "execution_count": 6
        }
      ]
    },
    {
      "cell_type": "code",
      "source": [
        "id_video = video.split(\"=\")[1]"
      ],
      "metadata": {
        "id": "kLpXCXOIwltD"
      },
      "execution_count": null,
      "outputs": []
    },
    {
      "cell_type": "code",
      "source": [
        "id_video"
      ],
      "metadata": {
        "colab": {
          "base_uri": "https://localhost:8080/",
          "height": 35
        },
        "id": "LegXpPXmwrxS",
        "outputId": "9d3366d5-cf06-4094-fd06-a8971e880bb4"
      },
      "execution_count": null,
      "outputs": [
        {
          "output_type": "execute_result",
          "data": {
            "text/plain": [
              "'tXVNS-V39A0'"
            ],
            "application/vnd.google.colaboratory.intrinsic+json": {
              "type": "string"
            }
          },
          "metadata": {},
          "execution_count": 8
        }
      ]
    },
    {
      "cell_type": "code",
      "source": [
        "transcript = YouTubeTranscriptApi.get_transcript(id_video)"
      ],
      "metadata": {
        "id": "QEcR0mGNwszS"
      },
      "execution_count": null,
      "outputs": []
    },
    {
      "cell_type": "code",
      "source": [
        "transcript"
      ],
      "metadata": {
        "colab": {
          "base_uri": "https://localhost:8080/"
        },
        "id": "7622-Z43wwnp",
        "outputId": "2d88eb1d-0015-4f53-c5b6-8b5d0b572b01"
      },
      "execution_count": null,
      "outputs": [
        {
          "output_type": "execute_result",
          "data": {
            "text/plain": [
              "[{'text': 'Machine learning is\\na complex discipline',\n",
              "  'start': 12.0,\n",
              "  'duration': 2.569},\n",
              " {'text': 'but implementing machine\\nlearning models is far',\n",
              "  'start': 14.569,\n",
              "  'duration': 3.018},\n",
              " {'text': 'less daunting and difficult', 'start': 17.587, 'duration': 1.713},\n",
              " {'text': 'than it used to be. Thanks', 'start': 19.3, 'duration': 1.5},\n",
              " {'text': \"to machine learning Frameworks\\nsuch as Google's TensorFlow\",\n",
              "  'start': 20.8,\n",
              "  'duration': 3.3},\n",
              " {'text': 'that ease the process', 'start': 24.1, 'duration': 1.5},\n",
              " {'text': 'of acquiring data, training model,\\nsolving predictions',\n",
              "  'start': 25.6,\n",
              "  'duration': 3.535},\n",
              " {'text': 'and refining future\\nresults. Created by',\n",
              "  'start': 29.135,\n",
              "  'duration': 2.565},\n",
              " {'text': 'the Google brain team tensorflow\\nis an open source library',\n",
              "  'start': 31.7,\n",
              "  'duration': 3.406},\n",
              " {'text': 'for numerical computation', 'start': 35.106, 'duration': 1.494},\n",
              " {'text': 'and large scale machine learning.\\nTensorflow bundles together',\n",
              "  'start': 36.6,\n",
              "  'duration': 3.511},\n",
              " {'text': 'a study of machine learning', 'start': 40.111, 'duration': 1.589},\n",
              " {'text': 'and deep learning models', 'start': 41.7, 'duration': 1.5},\n",
              " {'text': 'and algorithms and make\\nthem useful by way',\n",
              "  'start': 43.2,\n",
              "  'duration': 2.71},\n",
              " {'text': 'of common metaphor', 'start': 45.91, 'duration': 1.19},\n",
              " {'text': 'who will use machine learning\\nand all of its products',\n",
              "  'start': 47.1,\n",
              "  'duration': 3.0},\n",
              " {'text': 'to improve the search engine\\nthe translation image captioning',\n",
              "  'start': 50.1,\n",
              "  'duration': 4.1},\n",
              " {'text': 'or the recommendations to give\\nyou a concrete example,',\n",
              "  'start': 54.2,\n",
              "  'duration': 3.458},\n",
              " {'text': 'Google users can experience\\na faster and more refined search',\n",
              "  'start': 57.658,\n",
              "  'duration': 3.715},\n",
              " {'text': 'with artificial intelligence.', 'start': 61.373, 'duration': 1.827},\n",
              " {'text': 'If the user types a keyword\\nin the search bar Google',\n",
              "  'start': 63.2,\n",
              "  'duration': 3.042},\n",
              " {'text': 'provides a recommendation about\\nwhat could be the next world not',\n",
              "  'start': 66.242,\n",
              "  'duration': 3.758},\n",
              " {'text': 'as a flow is being used\\nby a lot of Companies',\n",
              "  'start': 70.0,\n",
              "  'duration': 2.6},\n",
              " {'text': 'in the industries and\\nto name a few first',\n",
              "  'start': 72.6,\n",
              "  'duration': 2.562},\n",
              " {'text': \"let's start with Airbnb,\", 'start': 75.162, 'duration': 1.454},\n",
              " {'text': 'the leading Global\\nOnline Marketplace',\n",
              "  'start': 76.616,\n",
              "  'duration': 2.284},\n",
              " {'text': 'and Hospitality service.', 'start': 78.9, 'duration': 1.6},\n",
              " {'text': 'The Airbnb ingenious\\nand data science team',\n",
              "  'start': 80.5,\n",
              "  'duration': 2.411},\n",
              " {'text': 'applies machine learning', 'start': 82.911, 'duration': 1.467},\n",
              " {'text': 'using tensorflow to\\nclassify the images',\n",
              "  'start': 84.378,\n",
              "  'duration': 2.422},\n",
              " {'text': 'and detect objects', 'start': 86.8, 'duration': 1.19},\n",
              " {'text': 'at scale helping to improve\\nthe guest experience',\n",
              "  'start': 87.99,\n",
              "  'duration': 3.11},\n",
              " {'text': 'and we talked', 'start': 91.1, 'duration': 0.794},\n",
              " {'text': 'about the healthcare industry\\nusing tensorflow GE Healthcare',\n",
              "  'start': 91.894,\n",
              "  'duration': 3.706},\n",
              " {'text': 'is training a neural network\\nto identify specific anatomic',\n",
              "  'start': 95.6,\n",
              "  'duration': 3.8},\n",
              " {'text': 'during the brain MRI exam\\nto help improve speed',\n",
              "  'start': 99.4,\n",
              "  'duration': 3.106},\n",
              " {'text': 'and reliability now PayPal\\nis using it as a flow to stay',\n",
              "  'start': 102.506,\n",
              "  'duration': 3.702},\n",
              " {'text': 'at The Cutting Edge', 'start': 106.208, 'duration': 1.177},\n",
              " {'text': 'of fraud detection', 'start': 107.385, 'duration': 1.12},\n",
              " {'text': 'using tensorflow deep\\ntrance for Learning',\n",
              "  'start': 108.505,\n",
              "  'duration': 2.374},\n",
              " {'text': 'and Generator modeling PayPal',\n",
              "  'start': 110.879,\n",
              "  'duration': 1.751},\n",
              " {'text': 'has been able to recognize', 'start': 112.63, 'duration': 1.57},\n",
              " {'text': 'complex fraud patterns to\\nincrease fraud decline accuracy',\n",
              "  'start': 114.2,\n",
              "  'duration': 3.7},\n",
              " {'text': 'while improving the experience\\nof legitimate users',\n",
              "  'start': 117.9,\n",
              "  'duration': 3.231},\n",
              " {'text': 'through increased Precision\\nin identification.',\n",
              "  'start': 121.131,\n",
              "  'duration': 2.969},\n",
              " {'text': 'China mobile is using tensorflow\\nto improve their success rate',\n",
              "  'start': 124.1,\n",
              "  'duration': 3.7},\n",
              " {'text': 'of the network element\\ncut overs Channel',\n",
              "  'start': 127.8,\n",
              "  'duration': 2.63},\n",
              " {'text': 'while has created\\na deep Fist amusing tensorflow',\n",
              "  'start': 130.43,\n",
              "  'duration': 3.211},\n",
              " {'text': 'that can automatically predicts\\nthe cut over time window',\n",
              "  'start': 133.641,\n",
              "  'duration': 3.759},\n",
              " {'text': 'verify log operations', 'start': 137.4, 'duration': 1.6},\n",
              " {'text': 'and detect Network anomalies', 'start': 139.0, 'duration': 2.1},\n",
              " {'text': 'and this has already\\nsuccessfully supported',\n",
              "  'start': 141.1,\n",
              "  'duration': 2.9},\n",
              " {'text': \"the world's largest relocation\\nof hundreds of millions iot HSS.\",\n",
              "  'start': 144.0,\n",
              "  'duration': 5.0},\n",
              " {'text': \"Let's talk about\\nthe tensorflow feature.\",\n",
              "  'start': 149.4,\n",
              "  'duration': 2.258},\n",
              " {'text': 'What makes it stand out\\nfrom the other competition.',\n",
              "  'start': 151.658,\n",
              "  'duration': 2.942},\n",
              " {'text': 'So Tessa flow offers\\nmultiple level of abstractions,',\n",
              "  'start': 154.6,\n",
              "  'duration': 2.794},\n",
              " {'text': 'so you can choose\\nthe right one for your needs.',\n",
              "  'start': 157.394,\n",
              "  'duration': 2.706},\n",
              " {'text': 'You can build', 'start': 160.1, 'duration': 0.7},\n",
              " {'text': \"and train models by using\\nthe high-level Kira's API,\",\n",
              "  'start': 160.8,\n",
              "  'duration': 3.0},\n",
              " {'text': 'which makes getting started', 'start': 163.9, 'duration': 1.499},\n",
              " {'text': 'with tensorflow and machine\\nlearning very very easy.',\n",
              "  'start': 165.399,\n",
              "  'duration': 3.001},\n",
              " {'text': 'If you need more flexibility\\nIker execution allows',\n",
              "  'start': 168.4,\n",
              "  'duration': 3.401},\n",
              " {'text': 'for immediate iteration\\nand intuitive debugging',\n",
              "  'start': 171.801,\n",
              "  'duration': 3.299},\n",
              " {'text': 'when you enable eager execution,', 'start': 175.1, 'duration': 1.9},\n",
              " {'text': 'you will be executing\\ntensorflow kernels immediately',\n",
              "  'start': 177.0,\n",
              "  'duration': 3.0},\n",
              " {'text': 'rather than constructing graphs', 'start': 180.0, 'duration': 1.78},\n",
              " {'text': 'that will be executed\\nlater know it provides',\n",
              "  'start': 181.78,\n",
              "  'duration': 2.592},\n",
              " {'text': 'a direct path to protection', 'start': 184.372, 'duration': 1.626},\n",
              " {'text': \"whether it's on servos\\nthe S devices\",\n",
              "  'start': 185.998,\n",
              "  'duration': 2.502},\n",
              " {'text': 'or the web tensorflow lets\\nyou train and deploy your model.',\n",
              "  'start': 188.5,\n",
              "  'duration': 3.307},\n",
              " {'text': 'Really no matter what language',\n",
              "  'start': 191.807,\n",
              "  'duration': 1.765},\n",
              " {'text': 'or the platform you\\nare using you can build',\n",
              "  'start': 193.572,\n",
              "  'duration': 2.283},\n",
              " {'text': 'and train the state-of-the-art\\nmodels without sacrificing',\n",
              "  'start': 195.855,\n",
              "  'duration': 3.045},\n",
              " {'text': 'speed or performance.', 'start': 198.9, 'duration': 1.2},\n",
              " {'text': \"That's the flow gives\\nyou the flexibility\",\n",
              "  'start': 200.1,\n",
              "  'duration': 2.1},\n",
              " {'text': \"and the control with features\\nlike Kira's functional API\",\n",
              "  'start': 202.2,\n",
              "  'duration': 4.1},\n",
              " {'text': 'and model subclassing\\nAPA for creation',\n",
              "  'start': 206.3,\n",
              "  'duration': 2.633},\n",
              " {'text': 'of complex topologies.', 'start': 208.933, 'duration': 1.567},\n",
              " {'text': \"There's a flow also\\nsupports an ecosystem\",\n",
              "  'start': 210.5,\n",
              "  'duration': 2.764},\n",
              " {'text': 'of powerful add on libraries', 'start': 213.264, 'duration': 1.936},\n",
              " {'text': 'and models to experiment\\nwith the tisza flows name',\n",
              "  'start': 215.2,\n",
              "  'duration': 3.192},\n",
              " {'text': 'directly derived from\\nits core framework.',\n",
              "  'start': 218.392,\n",
              "  'duration': 2.608},\n",
              " {'text': 'It does a flow all\\nthe computation involves tensor.',\n",
              "  'start': 221.0,\n",
              "  'duration': 3.2},\n",
              " {'text': 'So a tensor is a vector\\nor a matrix of n Dimensions',\n",
              "  'start': 224.2,\n",
              "  'duration': 3.63},\n",
              " {'text': 'that represents the type all\\nthe operations are conducted',\n",
              "  'start': 227.83,\n",
              "  'duration': 3.993},\n",
              " {'text': 'inside a graph and the graph\\nis set of a computation',\n",
              "  'start': 231.823,\n",
              "  'duration': 3.637},\n",
              " {'text': 'that takes place successively.',\n",
              "  'start': 235.46,\n",
              "  'duration': 2.124},\n",
              " {'text': 'Each operation is\\ncalled an open note',\n",
              "  'start': 237.584,\n",
              "  'duration': 2.443},\n",
              " {'text': 'and are connected to each other.',\n",
              "  'start': 240.027,\n",
              "  'duration': 2.173},\n",
              " {'text': \"There's a flow allows\\nthe developers to create\",\n",
              "  'start': 242.2,\n",
              "  'duration': 2.409},\n",
              " {'text': 'a data flow graphs\\nwhich are structures',\n",
              "  'start': 244.609,\n",
              "  'duration': 2.491},\n",
              " {'text': 'that describe how the data move\\nthrough a graph or a series',\n",
              "  'start': 247.1,\n",
              "  'duration': 3.421},\n",
              " {'text': 'of processing nodes.', 'start': 250.521, 'duration': 1.204},\n",
              " {'text': 'Each node in the graph', 'start': 251.725, 'duration': 1.294},\n",
              " {'text': 'represents a mathematical\\noperation and each connection',\n",
              "  'start': 253.019,\n",
              "  'duration': 3.261},\n",
              " {'text': 'or Edge between the notes is\\na multi-dimensional data array',\n",
              "  'start': 256.28,\n",
              "  'duration': 3.52},\n",
              " {'text': 'or tensile test flow\\nprovides all of this',\n",
              "  'start': 259.8,\n",
              "  'duration': 2.522},\n",
              " {'text': 'for the programmer by way', 'start': 262.322, 'duration': 1.561},\n",
              " {'text': 'of the Python language\\nby then is easy to learn',\n",
              "  'start': 263.883,\n",
              "  'duration': 3.265},\n",
              " {'text': 'and work with and provides\\nconvenient ways to express',\n",
              "  'start': 267.148,\n",
              "  'duration': 3.352},\n",
              " {'text': 'how high-level abstraction\\ncan be coupled together notes',\n",
              "  'start': 270.5,\n",
              "  'duration': 3.7},\n",
              " {'text': 'and the tensor in the tensorflow\\nour python objects.',\n",
              "  'start': 274.2,\n",
              "  'duration': 3.1},\n",
              " {'text': \"And there's a flow\\napplications are themselves\",\n",
              "  'start': 277.3,\n",
              "  'duration': 2.4},\n",
              " {'text': 'quite an application.', 'start': 279.7, 'duration': 1.164},\n",
              " {'text': 'Now the actual math operations\\nhowever are not performed',\n",
              "  'start': 280.864,\n",
              "  'duration': 3.236},\n",
              " {'text': 'in Python the libraries', 'start': 284.1, 'duration': 1.429},\n",
              " {'text': 'of transformation data available\\nthrough tears flow are written',\n",
              "  'start': 285.529,\n",
              "  'duration': 3.871},\n",
              " {'text': 'as high performance C++ binaries\\npython just directs the traffic',\n",
              "  'start': 289.4,\n",
              "  'duration': 4.189},\n",
              " {'text': 'between the pieces', 'start': 293.589, 'duration': 1.111},\n",
              " {'text': 'and provides high level\\nprogramming attraction to hook',\n",
              "  'start': 294.7,\n",
              "  'duration': 3.238},\n",
              " {'text': 'them together now\\nbuilding a new rail.',\n",
              "  'start': 297.938,\n",
              "  'duration': 2.262},\n",
              " {'text': 'It works cannot get\\nany more simpler.',\n",
              "  'start': 300.2,\n",
              "  'duration': 2.3},\n",
              " {'text': 'Usually any machine learning', 'start': 302.5, 'duration': 1.4},\n",
              " {'text': 'or deep learning process\\nhas some similar steps,',\n",
              "  'start': 303.9,\n",
              "  'duration': 2.869},\n",
              " {'text': 'but in this case of terms\\nof flow it is so simple',\n",
              "  'start': 306.769,\n",
              "  'duration': 2.931},\n",
              " {'text': 'any typical machine learning\\nlife Lord any process has some',\n",
              "  'start': 309.7,\n",
              "  'duration': 4.4},\n",
              " {'text': 'of the steps like collection', 'start': 314.1, 'duration': 1.4},\n",
              " {'text': 'of data set than building\\nthe model training the network',\n",
              "  'start': 315.5,\n",
              "  'duration': 3.7},\n",
              " {'text': 'evaluating the model', 'start': 319.2, 'duration': 1.5},\n",
              " {'text': 'and then predicting the outcome\\nin case of tensorflow.',\n",
              "  'start': 320.7,\n",
              "  'duration': 3.3},\n",
              " {'text': 'Most of the time is occupied\\nin the collection',\n",
              "  'start': 324.0,\n",
              "  'duration': 2.558},\n",
              " {'text': 'of data set now building a model\\nrequires only a few lines',\n",
              "  'start': 326.558,\n",
              "  'duration': 3.242},\n",
              " {'text': 'of code training.', 'start': 329.8, 'duration': 1.086},\n",
              " {'text': 'The network is just a single\\nline evaluating the network',\n",
              "  'start': 330.886,\n",
              "  'duration': 3.576},\n",
              " {'text': 'or the model itself is a single\\nline of code and predicting.',\n",
              "  'start': 334.462,\n",
              "  'duration': 3.838},\n",
              " {'text': 'The model is also a single line\\nof code now training',\n",
              "  'start': 338.3,\n",
              "  'duration': 3.6},\n",
              " {'text': 'a neural network cannot get\\nany more easier than this',\n",
              "  'start': 341.9,\n",
              "  'duration': 3.4},\n",
              " {'text': 'and that is why it is\\nthe flow remains at the top',\n",
              "  'start': 345.3,\n",
              "  'duration': 2.5},\n",
              " {'text': 'when compared to\\nthe other competitors.',\n",
              "  'start': 347.8,\n",
              "  'duration': 2.3},\n",
              " {'text': \"Now, that's a for competes\", 'start': 350.1, 'duration': 1.6},\n",
              " {'text': 'with a slew of other machine\\nlearning Frameworks like python',\n",
              "  'start': 351.7,\n",
              "  'duration': 3.343},\n",
              " {'text': 'or C. NT K and M.', 'start': 355.043, 'duration': 1.005},\n",
              " {'text': 'And next these are\\nthe three major Frameworks',\n",
              "  'start': 356.048,\n",
              "  'duration': 2.588},\n",
              " {'text': 'that address many\\nof the same needs now',\n",
              "  'start': 358.636,\n",
              "  'duration': 2.216},\n",
              " {'text': 'pie torch in addition\\nto being built in Python',\n",
              "  'start': 360.852,\n",
              "  'duration': 2.648},\n",
              " {'text': 'and as many other similarities', 'start': 363.5, 'duration': 1.846},\n",
              " {'text': 'to tensorflow the hardware\\naccelerated components',\n",
              "  'start': 365.346,\n",
              "  'duration': 2.957},\n",
              " {'text': 'under the hood a highly\\ninteractive development model',\n",
              "  'start': 368.303,\n",
              "  'duration': 3.297},\n",
              " {'text': 'that allows for Designing', 'start': 371.6, 'duration': 1.4},\n",
              " {'text': 'as you go work and many useful\\ncomponents are already included.',\n",
              "  'start': 373.0,\n",
              "  'duration': 4.3},\n",
              " {'text': 'Now PyTorch is\\ngenerally a better choice',\n",
              "  'start': 377.3,\n",
              "  'duration': 2.1},\n",
              " {'text': 'for fast development of projects', 'start': 379.4, 'duration': 1.9},\n",
              " {'text': 'that need to be up\\nand running in a short time',\n",
              "  'start': 381.3,\n",
              "  'duration': 2.7},\n",
              " {'text': 'but tensorflow wins out\\nfor larger projects',\n",
              "  'start': 384.0,\n",
              "  'duration': 2.902},\n",
              " {'text': 'and more complex workflows', 'start': 386.902, 'duration': 1.798},\n",
              " {'text': 'CNTK the Microsoft\\ncognitive toolkit,',\n",
              "  'start': 388.7,\n",
              "  'duration': 2.7},\n",
              " {'text': 'like tensorflow uses\\na graph structure',\n",
              "  'start': 391.4,\n",
              "  'duration': 2.2},\n",
              " {'text': 'to describe the data flow,', 'start': 393.6, 'duration': 1.3},\n",
              " {'text': 'but it focuses more', 'start': 394.9, 'duration': 1.3},\n",
              " {'text': 'on creating deep learning\\nneural network siente que',\n",
              "  'start': 396.2,\n",
              "  'duration': 3.3},\n",
              " {'text': 'handles many neural network jobs\\nfaster and has a broader set',\n",
              "  'start': 399.5,\n",
              "  'duration': 4.1},\n",
              " {'text': 'of apis for python C++ C sharp', 'start': 403.6, 'duration': 3.416},\n",
              " {'text': \"and Java but C NT K\\nisn't currently as easy to learn\",\n",
              "  'start': 407.016,\n",
              "  'duration': 3.923},\n",
              " {'text': 'or deployed as tensorflow.', 'start': 410.939, 'duration': 1.961},\n",
              " {'text': 'No talking about Apache MXNet', 'start': 412.9, 'duration': 1.782},\n",
              " {'text': 'adopted by Amazon as a premier\\ndeep learning framework',\n",
              "  'start': 414.682,\n",
              "  'duration': 3.118},\n",
              " {'text': 'on AWS can scale almost linearly', 'start': 417.8, 'duration': 3.0},\n",
              " {'text': 'across multiple gpus\\nand multiple machine.',\n",
              "  'start': 420.8,\n",
              "  'duration': 3.1},\n",
              " {'text': 'It also supports a broad range', 'start': 423.9, 'duration': 1.5},\n",
              " {'text': 'of languages API\\nlike python C++.',\n",
              "  'start': 425.4,\n",
              "  'duration': 2.6},\n",
              " {'text': 'scala R JavaScript\\nJulia and go', 'start': 428.0, 'duration': 4.3},\n",
              " {'text': 'although its native a parent\\nas pleasant to work',\n",
              "  'start': 432.4,\n",
              "  'duration': 3.0},\n",
              " {'text': 'with as tensorflow.', 'start': 435.4, 'duration': 1.228},\n",
              " {'text': 'It is also in the\\nmarket another thing',\n",
              "  'start': 436.628,\n",
              "  'duration': 2.468},\n",
              " {'text': 'that gives tensorflow Edge over\\nother competitors is the fact',\n",
              "  'start': 439.096,\n",
              "  'duration': 3.949},\n",
              " {'text': 'that it is open source and has\\na huge Community Support',\n",
              "  'start': 443.045,\n",
              "  'duration': 3.555},\n",
              " {'text': 'that not only provides\\nresearchers a way',\n",
              "  'start': 446.6,\n",
              "  'duration': 2.3},\n",
              " {'text': 'to build new models,', 'start': 448.9, 'duration': 1.0},\n",
              " {'text': 'but also a platform\\nto interact with others',\n",
              "  'start': 449.9,\n",
              "  'duration': 2.8},\n",
              " {'text': 'that face some issues', 'start': 452.7, 'duration': 1.4},\n",
              " {'text': 'if we talk about a simple\\nprogram in terms of flow.',\n",
              "  'start': 454.1,\n",
              "  'duration': 2.8},\n",
              " {'text': 'So any program basically\\nconsists of a construction phase',\n",
              "  'start': 456.9,\n",
              "  'duration': 3.4},\n",
              " {'text': 'and then an execution phase\\nthe construction phase',\n",
              "  'start': 460.3,\n",
              "  'duration': 3.382},\n",
              " {'text': 'where you build a graph\\nand execution phase is',\n",
              "  'start': 463.682,\n",
              "  'duration': 2.91},\n",
              " {'text': 'where you need\\nto evaluate the graph',\n",
              "  'start': 466.592,\n",
              "  'duration': 2.108},\n",
              " {'text': 'and then create a session then\\ninitialize all the variables.',\n",
              "  'start': 468.7,\n",
              "  'duration': 3.6},\n",
              " {'text': 'So as you can see\\nhere in the example',\n",
              "  'start': 472.3,\n",
              "  'duration': 1.9},\n",
              " {'text': 'of geometric sequencing it\\nis so easy to execute and',\n",
              "  'start': 474.2,\n",
              "  'duration': 3.648},\n",
              " {'text': 'if this is also hard for you,',\n",
              "  'start': 477.848,\n",
              "  'duration': 2.152},\n",
              " {'text': \"there's a float\\n2.0 the latest release makes\",\n",
              "  'start': 480.0,\n",
              "  'duration': 3.138},\n",
              " {'text': 'this even easier to code it\\nhas eager execution by default',\n",
              "  'start': 483.138,\n",
              "  'duration': 4.162},\n",
              " {'text': 'which makes things so\\nmuch simpler and easier.',\n",
              "  'start': 487.3,\n",
              "  'duration': 2.9},\n",
              " {'text': 'So as you can see\\nwith either X You',\n",
              "  'start': 490.2,\n",
              "  'duration': 1.7},\n",
              " {'text': 'should our program has a strong\\nto a few lines of code.',\n",
              "  'start': 491.9,\n",
              "  'duration': 3.436},\n",
              " {'text': \"So guys, that's it\\nfor the session.\",\n",
              "  'start': 495.336,\n",
              "  'duration': 2.185},\n",
              " {'text': 'I hope you got to know\\ntensorflow what exactly it is',\n",
              "  'start': 497.521,\n",
              "  'duration': 3.279},\n",
              " {'text': 'and how useful it is go ahead', 'start': 500.8, 'duration': 2.4},\n",
              " {'text': 'and create your own', 'start': 503.2, 'duration': 0.981},\n",
              " {'text': 'deep learning models\\nand see for yourself.',\n",
              "  'start': 504.181,\n",
              "  'duration': 2.219},\n",
              " {'text': 'What an incredible framework\\nthis is till then thank you',\n",
              "  'start': 506.4,\n",
              "  'duration': 3.493},\n",
              " {'text': 'and happy learning.', 'start': 509.893, 'duration': 1.207},\n",
              " {'text': 'I hope you have enjoyed\\nlistening to this video.',\n",
              "  'start': 511.1,\n",
              "  'duration': 2.9},\n",
              " {'text': 'Please be kind enough to like it',\n",
              "  'start': 514.0,\n",
              "  'duration': 2.014},\n",
              " {'text': 'and you can comment any\\nof your doubts and queries',\n",
              "  'start': 516.014,\n",
              "  'duration': 3.086},\n",
              " {'text': 'and we will reply them', 'start': 519.1, 'duration': 1.444},\n",
              " {'text': 'at the earliest do look out\\nfor more videos in our playlist',\n",
              "  'start': 520.544,\n",
              "  'duration': 3.756},\n",
              " {'text': 'And subscribe to Edureka channel to learn more.',\n",
              "  'start': 524.3,\n",
              "  'duration': 3.3},\n",
              " {'text': 'Happy learning.', 'start': 527.6, 'duration': 0.9}]"
            ]
          },
          "metadata": {},
          "execution_count": 10
        }
      ]
    },
    {
      "cell_type": "code",
      "source": [
        "doc = \"\"\n",
        "for line in transcript:\n",
        "  doc = doc + line[\"text\"]\n",
        "\n",
        "print(type(doc))\n",
        "print(doc)"
      ],
      "metadata": {
        "colab": {
          "base_uri": "https://localhost:8080/"
        },
        "id": "zIUDWmm7wxxf",
        "outputId": "5923ae08-0f3b-4bc8-a31f-eb1d10526f90"
      },
      "execution_count": null,
      "outputs": [
        {
          "output_type": "stream",
          "name": "stdout",
          "text": [
            "<class 'str'>\n",
            "Machine learning is\n",
            "a complex disciplinebut implementing machine\n",
            "learning models is farless daunting and difficultthan it used to be. Thanksto machine learning Frameworks\n",
            "such as Google's TensorFlowthat ease the processof acquiring data, training model,\n",
            "solving predictionsand refining future\n",
            "results. Created bythe Google brain team tensorflow\n",
            "is an open source libraryfor numerical computationand large scale machine learning.\n",
            "Tensorflow bundles togethera study of machine learningand deep learning modelsand algorithms and make\n",
            "them useful by wayof common metaphorwho will use machine learning\n",
            "and all of its productsto improve the search engine\n",
            "the translation image captioningor the recommendations to give\n",
            "you a concrete example,Google users can experience\n",
            "a faster and more refined searchwith artificial intelligence.If the user types a keyword\n",
            "in the search bar Googleprovides a recommendation about\n",
            "what could be the next world notas a flow is being used\n",
            "by a lot of Companiesin the industries and\n",
            "to name a few firstlet's start with Airbnb,the leading Global\n",
            "Online Marketplaceand Hospitality service.The Airbnb ingenious\n",
            "and data science teamapplies machine learningusing tensorflow to\n",
            "classify the imagesand detect objectsat scale helping to improve\n",
            "the guest experienceand we talkedabout the healthcare industry\n",
            "using tensorflow GE Healthcareis training a neural network\n",
            "to identify specific anatomicduring the brain MRI exam\n",
            "to help improve speedand reliability now PayPal\n",
            "is using it as a flow to stayat The Cutting Edgeof fraud detectionusing tensorflow deep\n",
            "trance for Learningand Generator modeling PayPalhas been able to recognizecomplex fraud patterns to\n",
            "increase fraud decline accuracywhile improving the experience\n",
            "of legitimate usersthrough increased Precision\n",
            "in identification.China mobile is using tensorflow\n",
            "to improve their success rateof the network element\n",
            "cut overs Channelwhile has created\n",
            "a deep Fist amusing tensorflowthat can automatically predicts\n",
            "the cut over time windowverify log operationsand detect Network anomaliesand this has already\n",
            "successfully supportedthe world's largest relocation\n",
            "of hundreds of millions iot HSS.Let's talk about\n",
            "the tensorflow feature.What makes it stand out\n",
            "from the other competition.So Tessa flow offers\n",
            "multiple level of abstractions,so you can choose\n",
            "the right one for your needs.You can buildand train models by using\n",
            "the high-level Kira's API,which makes getting startedwith tensorflow and machine\n",
            "learning very very easy.If you need more flexibility\n",
            "Iker execution allowsfor immediate iteration\n",
            "and intuitive debuggingwhen you enable eager execution,you will be executing\n",
            "tensorflow kernels immediatelyrather than constructing graphsthat will be executed\n",
            "later know it providesa direct path to protectionwhether it's on servos\n",
            "the S devicesor the web tensorflow lets\n",
            "you train and deploy your model.Really no matter what languageor the platform you\n",
            "are using you can buildand train the state-of-the-art\n",
            "models without sacrificingspeed or performance.That's the flow gives\n",
            "you the flexibilityand the control with features\n",
            "like Kira's functional APIand model subclassing\n",
            "APA for creationof complex topologies.There's a flow also\n",
            "supports an ecosystemof powerful add on librariesand models to experiment\n",
            "with the tisza flows namedirectly derived from\n",
            "its core framework.It does a flow all\n",
            "the computation involves tensor.So a tensor is a vector\n",
            "or a matrix of n Dimensionsthat represents the type all\n",
            "the operations are conductedinside a graph and the graph\n",
            "is set of a computationthat takes place successively.Each operation is\n",
            "called an open noteand are connected to each other.There's a flow allows\n",
            "the developers to createa data flow graphs\n",
            "which are structuresthat describe how the data move\n",
            "through a graph or a seriesof processing nodes.Each node in the graphrepresents a mathematical\n",
            "operation and each connectionor Edge between the notes is\n",
            "a multi-dimensional data arrayor tensile test flow\n",
            "provides all of thisfor the programmer by wayof the Python language\n",
            "by then is easy to learnand work with and provides\n",
            "convenient ways to expresshow high-level abstraction\n",
            "can be coupled together notesand the tensor in the tensorflow\n",
            "our python objects.And there's a flow\n",
            "applications are themselvesquite an application.Now the actual math operations\n",
            "however are not performedin Python the librariesof transformation data available\n",
            "through tears flow are writtenas high performance C++ binaries\n",
            "python just directs the trafficbetween the piecesand provides high level\n",
            "programming attraction to hookthem together now\n",
            "building a new rail.It works cannot get\n",
            "any more simpler.Usually any machine learningor deep learning process\n",
            "has some similar steps,but in this case of terms\n",
            "of flow it is so simpleany typical machine learning\n",
            "life Lord any process has someof the steps like collectionof data set than building\n",
            "the model training the networkevaluating the modeland then predicting the outcome\n",
            "in case of tensorflow.Most of the time is occupied\n",
            "in the collectionof data set now building a model\n",
            "requires only a few linesof code training.The network is just a single\n",
            "line evaluating the networkor the model itself is a single\n",
            "line of code and predicting.The model is also a single line\n",
            "of code now traininga neural network cannot get\n",
            "any more easier than thisand that is why it is\n",
            "the flow remains at the topwhen compared to\n",
            "the other competitors.Now, that's a for competeswith a slew of other machine\n",
            "learning Frameworks like pythonor C. NT K and M.And next these are\n",
            "the three major Frameworksthat address many\n",
            "of the same needs nowpie torch in addition\n",
            "to being built in Pythonand as many other similaritiesto tensorflow the hardware\n",
            "accelerated componentsunder the hood a highly\n",
            "interactive development modelthat allows for Designingas you go work and many useful\n",
            "components are already included.Now PyTorch is\n",
            "generally a better choicefor fast development of projectsthat need to be up\n",
            "and running in a short timebut tensorflow wins out\n",
            "for larger projectsand more complex workflowsCNTK the Microsoft\n",
            "cognitive toolkit,like tensorflow uses\n",
            "a graph structureto describe the data flow,but it focuses moreon creating deep learning\n",
            "neural network siente quehandles many neural network jobs\n",
            "faster and has a broader setof apis for python C++ C sharpand Java but C NT K\n",
            "isn't currently as easy to learnor deployed as tensorflow.No talking about Apache MXNetadopted by Amazon as a premier\n",
            "deep learning frameworkon AWS can scale almost linearlyacross multiple gpus\n",
            "and multiple machine.It also supports a broad rangeof languages API\n",
            "like python C++.scala R JavaScript\n",
            "Julia and goalthough its native a parent\n",
            "as pleasant to workwith as tensorflow.It is also in the\n",
            "market another thingthat gives tensorflow Edge over\n",
            "other competitors is the factthat it is open source and has\n",
            "a huge Community Supportthat not only provides\n",
            "researchers a wayto build new models,but also a platform\n",
            "to interact with othersthat face some issuesif we talk about a simple\n",
            "program in terms of flow.So any program basically\n",
            "consists of a construction phaseand then an execution phase\n",
            "the construction phasewhere you build a graph\n",
            "and execution phase iswhere you need\n",
            "to evaluate the graphand then create a session then\n",
            "initialize all the variables.So as you can see\n",
            "here in the exampleof geometric sequencing it\n",
            "is so easy to execute andif this is also hard for you,there's a float\n",
            "2.0 the latest release makesthis even easier to code it\n",
            "has eager execution by defaultwhich makes things so\n",
            "much simpler and easier.So as you can see\n",
            "with either X Youshould our program has a strong\n",
            "to a few lines of code.So guys, that's it\n",
            "for the session.I hope you got to know\n",
            "tensorflow what exactly it isand how useful it is go aheadand create your owndeep learning models\n",
            "and see for yourself.What an incredible framework\n",
            "this is till then thank youand happy learning.I hope you have enjoyed\n",
            "listening to this video.Please be kind enough to like itand you can comment any\n",
            "of your doubts and queriesand we will reply themat the earliest do look out\n",
            "for more videos in our playlistAnd subscribe to Edureka channel to learn more.Happy learning.\n"
          ]
        }
      ]
    },
    {
      "cell_type": "code",
      "source": [
        "doc=[]\n",
        "for line in transcript:\n",
        "  if \"\\n\" in line['text']:\n",
        "    x=line['text'].replace(\"\\n\",\" \")\n",
        "    doc.append(x)\n",
        "  else:\n",
        "    doc.append(line['text'])\n",
        "print(doc)"
      ],
      "metadata": {
        "colab": {
          "base_uri": "https://localhost:8080/"
        },
        "id": "L1jKyYgNxC78",
        "outputId": "0c580fa3-97bc-4d21-9a94-760b985c8d09"
      },
      "execution_count": null,
      "outputs": [
        {
          "output_type": "stream",
          "name": "stdout",
          "text": [
            "['Machine learning is a complex discipline', 'but implementing machine learning models is far', 'less daunting and difficult', 'than it used to be. Thanks', \"to machine learning Frameworks such as Google's TensorFlow\", 'that ease the process', 'of acquiring data, training model, solving predictions', 'and refining future results. Created by', 'the Google brain team tensorflow is an open source library', 'for numerical computation', 'and large scale machine learning. Tensorflow bundles together', 'a study of machine learning', 'and deep learning models', 'and algorithms and make them useful by way', 'of common metaphor', 'who will use machine learning and all of its products', 'to improve the search engine the translation image captioning', 'or the recommendations to give you a concrete example,', 'Google users can experience a faster and more refined search', 'with artificial intelligence.', 'If the user types a keyword in the search bar Google', 'provides a recommendation about what could be the next world not', 'as a flow is being used by a lot of Companies', 'in the industries and to name a few first', \"let's start with Airbnb,\", 'the leading Global Online Marketplace', 'and Hospitality service.', 'The Airbnb ingenious and data science team', 'applies machine learning', 'using tensorflow to classify the images', 'and detect objects', 'at scale helping to improve the guest experience', 'and we talked', 'about the healthcare industry using tensorflow GE Healthcare', 'is training a neural network to identify specific anatomic', 'during the brain MRI exam to help improve speed', 'and reliability now PayPal is using it as a flow to stay', 'at The Cutting Edge', 'of fraud detection', 'using tensorflow deep trance for Learning', 'and Generator modeling PayPal', 'has been able to recognize', 'complex fraud patterns to increase fraud decline accuracy', 'while improving the experience of legitimate users', 'through increased Precision in identification.', 'China mobile is using tensorflow to improve their success rate', 'of the network element cut overs Channel', 'while has created a deep Fist amusing tensorflow', 'that can automatically predicts the cut over time window', 'verify log operations', 'and detect Network anomalies', 'and this has already successfully supported', \"the world's largest relocation of hundreds of millions iot HSS.\", \"Let's talk about the tensorflow feature.\", 'What makes it stand out from the other competition.', 'So Tessa flow offers multiple level of abstractions,', 'so you can choose the right one for your needs.', 'You can build', \"and train models by using the high-level Kira's API,\", 'which makes getting started', 'with tensorflow and machine learning very very easy.', 'If you need more flexibility Iker execution allows', 'for immediate iteration and intuitive debugging', 'when you enable eager execution,', 'you will be executing tensorflow kernels immediately', 'rather than constructing graphs', 'that will be executed later know it provides', 'a direct path to protection', \"whether it's on servos the S devices\", 'or the web tensorflow lets you train and deploy your model.', 'Really no matter what language', 'or the platform you are using you can build', 'and train the state-of-the-art models without sacrificing', 'speed or performance.', \"That's the flow gives you the flexibility\", \"and the control with features like Kira's functional API\", 'and model subclassing APA for creation', 'of complex topologies.', \"There's a flow also supports an ecosystem\", 'of powerful add on libraries', 'and models to experiment with the tisza flows name', 'directly derived from its core framework.', 'It does a flow all the computation involves tensor.', 'So a tensor is a vector or a matrix of n Dimensions', 'that represents the type all the operations are conducted', 'inside a graph and the graph is set of a computation', 'that takes place successively.', 'Each operation is called an open note', 'and are connected to each other.', \"There's a flow allows the developers to create\", 'a data flow graphs which are structures', 'that describe how the data move through a graph or a series', 'of processing nodes.', 'Each node in the graph', 'represents a mathematical operation and each connection', 'or Edge between the notes is a multi-dimensional data array', 'or tensile test flow provides all of this', 'for the programmer by way', 'of the Python language by then is easy to learn', 'and work with and provides convenient ways to express', 'how high-level abstraction can be coupled together notes', 'and the tensor in the tensorflow our python objects.', \"And there's a flow applications are themselves\", 'quite an application.', 'Now the actual math operations however are not performed', 'in Python the libraries', 'of transformation data available through tears flow are written', 'as high performance C++ binaries python just directs the traffic', 'between the pieces', 'and provides high level programming attraction to hook', 'them together now building a new rail.', 'It works cannot get any more simpler.', 'Usually any machine learning', 'or deep learning process has some similar steps,', 'but in this case of terms of flow it is so simple', 'any typical machine learning life Lord any process has some', 'of the steps like collection', 'of data set than building the model training the network', 'evaluating the model', 'and then predicting the outcome in case of tensorflow.', 'Most of the time is occupied in the collection', 'of data set now building a model requires only a few lines', 'of code training.', 'The network is just a single line evaluating the network', 'or the model itself is a single line of code and predicting.', 'The model is also a single line of code now training', 'a neural network cannot get any more easier than this', 'and that is why it is the flow remains at the top', 'when compared to the other competitors.', \"Now, that's a for competes\", 'with a slew of other machine learning Frameworks like python', 'or C. NT K and M.', 'And next these are the three major Frameworks', 'that address many of the same needs now', 'pie torch in addition to being built in Python', 'and as many other similarities', 'to tensorflow the hardware accelerated components', 'under the hood a highly interactive development model', 'that allows for Designing', 'as you go work and many useful components are already included.', 'Now PyTorch is generally a better choice', 'for fast development of projects', 'that need to be up and running in a short time', 'but tensorflow wins out for larger projects', 'and more complex workflows', 'CNTK the Microsoft cognitive toolkit,', 'like tensorflow uses a graph structure', 'to describe the data flow,', 'but it focuses more', 'on creating deep learning neural network siente que', 'handles many neural network jobs faster and has a broader set', 'of apis for python C++ C sharp', \"and Java but C NT K isn't currently as easy to learn\", 'or deployed as tensorflow.', 'No talking about Apache MXNet', 'adopted by Amazon as a premier deep learning framework', 'on AWS can scale almost linearly', 'across multiple gpus and multiple machine.', 'It also supports a broad range', 'of languages API like python C++.', 'scala R JavaScript Julia and go', 'although its native a parent as pleasant to work', 'with as tensorflow.', 'It is also in the market another thing', 'that gives tensorflow Edge over other competitors is the fact', 'that it is open source and has a huge Community Support', 'that not only provides researchers a way', 'to build new models,', 'but also a platform to interact with others', 'that face some issues', 'if we talk about a simple program in terms of flow.', 'So any program basically consists of a construction phase', 'and then an execution phase the construction phase', 'where you build a graph and execution phase is', 'where you need to evaluate the graph', 'and then create a session then initialize all the variables.', 'So as you can see here in the example', 'of geometric sequencing it is so easy to execute and', 'if this is also hard for you,', \"there's a float 2.0 the latest release makes\", 'this even easier to code it has eager execution by default', 'which makes things so much simpler and easier.', 'So as you can see with either X You', 'should our program has a strong to a few lines of code.', \"So guys, that's it for the session.\", 'I hope you got to know tensorflow what exactly it is', 'and how useful it is go ahead', 'and create your own', 'deep learning models and see for yourself.', 'What an incredible framework this is till then thank you', 'and happy learning.', 'I hope you have enjoyed listening to this video.', 'Please be kind enough to like it', 'and you can comment any of your doubts and queries', 'and we will reply them', 'at the earliest do look out for more videos in our playlist', 'And subscribe to Edureka channel to learn more.', 'Happy learning.']\n"
          ]
        }
      ]
    },
    {
      "cell_type": "code",
      "source": [
        "para = \" \".join(doc)\n",
        "print(para)"
      ],
      "metadata": {
        "colab": {
          "base_uri": "https://localhost:8080/"
        },
        "id": "JJs2tvfzxau3",
        "outputId": "e5939300-1b2b-4ff2-ca8f-242bd2a0f2ec"
      },
      "execution_count": null,
      "outputs": [
        {
          "output_type": "stream",
          "name": "stdout",
          "text": [
            "Machine learning is a complex discipline but implementing machine learning models is far less daunting and difficult than it used to be. Thanks to machine learning Frameworks such as Google's TensorFlow that ease the process of acquiring data, training model, solving predictions and refining future results. Created by the Google brain team tensorflow is an open source library for numerical computation and large scale machine learning. Tensorflow bundles together a study of machine learning and deep learning models and algorithms and make them useful by way of common metaphor who will use machine learning and all of its products to improve the search engine the translation image captioning or the recommendations to give you a concrete example, Google users can experience a faster and more refined search with artificial intelligence. If the user types a keyword in the search bar Google provides a recommendation about what could be the next world not as a flow is being used by a lot of Companies in the industries and to name a few first let's start with Airbnb, the leading Global Online Marketplace and Hospitality service. The Airbnb ingenious and data science team applies machine learning using tensorflow to classify the images and detect objects at scale helping to improve the guest experience and we talked about the healthcare industry using tensorflow GE Healthcare is training a neural network to identify specific anatomic during the brain MRI exam to help improve speed and reliability now PayPal is using it as a flow to stay at The Cutting Edge of fraud detection using tensorflow deep trance for Learning and Generator modeling PayPal has been able to recognize complex fraud patterns to increase fraud decline accuracy while improving the experience of legitimate users through increased Precision in identification. China mobile is using tensorflow to improve their success rate of the network element cut overs Channel while has created a deep Fist amusing tensorflow that can automatically predicts the cut over time window verify log operations and detect Network anomalies and this has already successfully supported the world's largest relocation of hundreds of millions iot HSS. Let's talk about the tensorflow feature. What makes it stand out from the other competition. So Tessa flow offers multiple level of abstractions, so you can choose the right one for your needs. You can build and train models by using the high-level Kira's API, which makes getting started with tensorflow and machine learning very very easy. If you need more flexibility Iker execution allows for immediate iteration and intuitive debugging when you enable eager execution, you will be executing tensorflow kernels immediately rather than constructing graphs that will be executed later know it provides a direct path to protection whether it's on servos the S devices or the web tensorflow lets you train and deploy your model. Really no matter what language or the platform you are using you can build and train the state-of-the-art models without sacrificing speed or performance. That's the flow gives you the flexibility and the control with features like Kira's functional API and model subclassing APA for creation of complex topologies. There's a flow also supports an ecosystem of powerful add on libraries and models to experiment with the tisza flows name directly derived from its core framework. It does a flow all the computation involves tensor. So a tensor is a vector or a matrix of n Dimensions that represents the type all the operations are conducted inside a graph and the graph is set of a computation that takes place successively. Each operation is called an open note and are connected to each other. There's a flow allows the developers to create a data flow graphs which are structures that describe how the data move through a graph or a series of processing nodes. Each node in the graph represents a mathematical operation and each connection or Edge between the notes is a multi-dimensional data array or tensile test flow provides all of this for the programmer by way of the Python language by then is easy to learn and work with and provides convenient ways to express how high-level abstraction can be coupled together notes and the tensor in the tensorflow our python objects. And there's a flow applications are themselves quite an application. Now the actual math operations however are not performed in Python the libraries of transformation data available through tears flow are written as high performance C++ binaries python just directs the traffic between the pieces and provides high level programming attraction to hook them together now building a new rail. It works cannot get any more simpler. Usually any machine learning or deep learning process has some similar steps, but in this case of terms of flow it is so simple any typical machine learning life Lord any process has some of the steps like collection of data set than building the model training the network evaluating the model and then predicting the outcome in case of tensorflow. Most of the time is occupied in the collection of data set now building a model requires only a few lines of code training. The network is just a single line evaluating the network or the model itself is a single line of code and predicting. The model is also a single line of code now training a neural network cannot get any more easier than this and that is why it is the flow remains at the top when compared to the other competitors. Now, that's a for competes with a slew of other machine learning Frameworks like python or C. NT K and M. And next these are the three major Frameworks that address many of the same needs now pie torch in addition to being built in Python and as many other similarities to tensorflow the hardware accelerated components under the hood a highly interactive development model that allows for Designing as you go work and many useful components are already included. Now PyTorch is generally a better choice for fast development of projects that need to be up and running in a short time but tensorflow wins out for larger projects and more complex workflows CNTK the Microsoft cognitive toolkit, like tensorflow uses a graph structure to describe the data flow, but it focuses more on creating deep learning neural network siente que handles many neural network jobs faster and has a broader set of apis for python C++ C sharp and Java but C NT K isn't currently as easy to learn or deployed as tensorflow. No talking about Apache MXNet adopted by Amazon as a premier deep learning framework on AWS can scale almost linearly across multiple gpus and multiple machine. It also supports a broad range of languages API like python C++. scala R JavaScript Julia and go although its native a parent as pleasant to work with as tensorflow. It is also in the market another thing that gives tensorflow Edge over other competitors is the fact that it is open source and has a huge Community Support that not only provides researchers a way to build new models, but also a platform to interact with others that face some issues if we talk about a simple program in terms of flow. So any program basically consists of a construction phase and then an execution phase the construction phase where you build a graph and execution phase is where you need to evaluate the graph and then create a session then initialize all the variables. So as you can see here in the example of geometric sequencing it is so easy to execute and if this is also hard for you, there's a float 2.0 the latest release makes this even easier to code it has eager execution by default which makes things so much simpler and easier. So as you can see with either X You should our program has a strong to a few lines of code. So guys, that's it for the session. I hope you got to know tensorflow what exactly it is and how useful it is go ahead and create your own deep learning models and see for yourself. What an incredible framework this is till then thank you and happy learning. I hope you have enjoyed listening to this video. Please be kind enough to like it and you can comment any of your doubts and queries and we will reply them at the earliest do look out for more videos in our playlist And subscribe to Edureka channel to learn more. Happy learning.\n"
          ]
        }
      ]
    },
    {
      "cell_type": "markdown",
      "source": [
        "## Using transformer model"
      ],
      "metadata": {
        "id": "eEdbL8_T0de3"
      }
    },
    {
      "cell_type": "code",
      "source": [
        "text = para"
      ],
      "metadata": {
        "id": "tjviGOjm3lrS"
      },
      "execution_count": null,
      "outputs": []
    },
    {
      "cell_type": "code",
      "source": [
        "from transformers import pipeline\n",
        "\n",
        "# Load the pretrained summarization model\n",
        "summarizer = pipeline(\"summarization\", model=\"facebook/bart-large-cnn\")"
      ],
      "metadata": {
        "id": "zPvsdQwg3tEq",
        "outputId": "6a1e7d04-f19c-4a7e-c48c-796b260b7455",
        "colab": {
          "base_uri": "https://localhost:8080/"
        }
      },
      "execution_count": null,
      "outputs": [
        {
          "output_type": "stream",
          "name": "stderr",
          "text": [
            "Device set to use cpu\n"
          ]
        }
      ]
    },
    {
      "cell_type": "code",
      "source": [
        "def split_text(text, max_tokens=1024):\n",
        "    words = text.split()\n",
        "    return [\" \".join(words[i:i+max_tokens]) for i in range(0, len(words), max_tokens)]\n",
        "\n",
        "text_chunks = split_text(text)\n",
        "\n",
        "summaries = [summarizer(chunk, max_length=150, min_length=50, do_sample=False)[0]['summary_text'] for chunk in text_chunks]\n",
        "\n",
        "final_summary = \" \".join(summaries)\n",
        "\n",
        "print(\"Final Summary:\", final_summary)\n"
      ],
      "metadata": {
        "id": "jQyfOj3LJGzN"
      },
      "execution_count": null,
      "outputs": []
    },
    {
      "cell_type": "code",
      "source": [],
      "metadata": {
        "id": "ygrA-fc71OIz"
      },
      "execution_count": null,
      "outputs": []
    }
  ]
}